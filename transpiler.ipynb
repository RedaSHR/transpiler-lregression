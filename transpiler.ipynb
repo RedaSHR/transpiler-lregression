{
 "cells": [
  {
   "cell_type": "markdown",
   "metadata": {},
   "source": [
    "# Transpiling a Python LR model to C"
   ]
  },
  {
   "cell_type": "markdown",
   "metadata": {},
   "source": [
    "## Initializing virtual env and dependancies"
   ]
  },
  {
   "cell_type": "code",
   "execution_count": 3,
   "metadata": {},
   "outputs": [
    {
     "name": "stdout",
     "output_type": "stream",
     "text": [
      "Requirement already satisfied: pip in ./env/lib/python3.9/site-packages (21.3.1)\n",
      "Requirement already satisfied: pandas==1.3.5 in ./env/lib/python3.9/site-packages (from -r requirements.txt (line 1)) (1.3.5)\n",
      "Collecting scikit-learn==1.0.1\n",
      "  Using cached scikit-learn-1.0.1.tar.gz (6.6 MB)\n",
      "  Installing build dependencies ... \u001b[?25ldone\n",
      "\u001b[?25h  Getting requirements to build wheel ... \u001b[?25ldone\n",
      "\u001b[?25h  Preparing metadata (pyproject.toml) ... \u001b[?25ldone\n",
      "\u001b[?25hCollecting joblib==1.1.0\n",
      "  Using cached joblib-1.1.0-py2.py3-none-any.whl (306 kB)\n",
      "Requirement already satisfied: python-dateutil>=2.7.3 in ./env/lib/python3.9/site-packages (from pandas==1.3.5->-r requirements.txt (line 1)) (2.8.2)\n",
      "Requirement already satisfied: numpy>=1.20.0 in ./env/lib/python3.9/site-packages (from pandas==1.3.5->-r requirements.txt (line 1)) (1.21.4)\n",
      "Requirement already satisfied: pytz>=2017.3 in ./env/lib/python3.9/site-packages (from pandas==1.3.5->-r requirements.txt (line 1)) (2021.3)\n",
      "Collecting scipy>=1.1.0\n",
      "  Using cached scipy-1.7.3-1-cp39-cp39-macosx_12_0_arm64.whl (27.0 MB)\n",
      "Collecting threadpoolctl>=2.0.0\n",
      "  Using cached threadpoolctl-3.0.0-py3-none-any.whl (14 kB)\n",
      "Requirement already satisfied: six>=1.5 in ./env/lib/python3.9/site-packages (from python-dateutil>=2.7.3->pandas==1.3.5->-r requirements.txt (line 1)) (1.16.0)\n",
      "Building wheels for collected packages: scikit-learn\n",
      "  Building wheel for scikit-learn (pyproject.toml) ... \u001b[?25ldone\n",
      "\u001b[?25h  Created wheel for scikit-learn: filename=scikit_learn-1.0.1-cp39-cp39-macosx_11_0_arm64.whl size=6815553 sha256=2b1045b39659383ac1028959dfcf2fba86e8261d30b271cbed7d58e6756029ca\n",
      "  Stored in directory: /Users/redasahrane/Library/Caches/pip/wheels/52/9c/a6/ec245545963d3bd597e2247564829b0ce1ab4d62db030c3a93\n",
      "Successfully built scikit-learn\n",
      "Installing collected packages: threadpoolctl, scipy, joblib, scikit-learn\n",
      "Successfully installed joblib-1.1.0 scikit-learn-1.0.1 scipy-1.7.3 threadpoolctl-3.0.0\n"
     ]
    }
   ],
   "source": [
    "! ./start.sh"
   ]
  },
  {
   "cell_type": "markdown",
   "metadata": {},
   "source": [
    "## Saving the LR model with joblib"
   ]
  },
  {
   "cell_type": "markdown",
   "metadata": {},
   "source": [
    "Linear regression made on the Iris dataset"
   ]
  },
  {
   "cell_type": "code",
   "execution_count": 6,
   "metadata": {},
   "outputs": [
    {
     "data": {
      "text/plain": [
       "['lr_model.joblib']"
      ]
     },
     "execution_count": 6,
     "metadata": {},
     "output_type": "execute_result"
    }
   ],
   "source": [
    "import pandas as pd\n",
    "import joblib\n",
    "\n",
    "from sklearn.linear_model import LinearRegression\n",
    "from sklearn.model_selection import train_test_split\n",
    "\n",
    "df = pd.read_csv(\"iris.csv\")\n",
    "\n",
    "X = df[[\"sepal.length\", \"sepal.width\"]]\n",
    "y = df[\"petal.length\"]\n",
    "\n",
    "X_train, X_test, y_train, y_test = train_test_split(X, y, test_size=0.10, random_state=42)\n",
    "lr = LinearRegression()\n",
    "lr.fit(X_train, y_train)\n",
    "\n",
    "joblib.dump(lr, \"lr_model.joblib\")"
   ]
  },
  {
   "cell_type": "markdown",
   "metadata": {},
   "source": [
    "## Loading the model saved"
   ]
  },
  {
   "cell_type": "code",
   "execution_count": 19,
   "metadata": {},
   "outputs": [],
   "source": [
    "lr_model = joblib.load('lr_model.joblib')\n",
    "\n",
    "thetas = lr_model.coef_\n",
    "n_thetas = len(thetas)\n",
    "bias = lr_model.intercept_"
   ]
  },
  {
   "cell_type": "markdown",
   "metadata": {},
   "source": [
    "Converting the thetas to C array"
   ]
  },
  {
   "cell_type": "code",
   "execution_count": 22,
   "metadata": {},
   "outputs": [
    {
     "data": {
      "text/plain": [
       "'float thetas[2] = { 1.7857587975297526f, -1.3404875694395608f };'"
      ]
     },
     "execution_count": 22,
     "metadata": {},
     "output_type": "execute_result"
    }
   ],
   "source": [
    "thetas_str = f\"\"\n",
    "for t in thetas:\n",
    "    thetas_str += str(t) + \"f, \"\n",
    "\n",
    "thetas_str = thetas_str.strip(', ')\n",
    "thetas_str_c = f\"float thetas[{n_thetas}] = {{ {thetas_str} }};\"\n",
    "thetas_str_c"
   ]
  },
  {
   "cell_type": "markdown",
   "metadata": {},
   "source": [
    "Converting input test set to C"
   ]
  },
  {
   "cell_type": "code",
   "execution_count": 30,
   "metadata": {},
   "outputs": [
    {
     "name": "stdout",
     "output_type": "stream",
     "text": [
      "{6.1, 2.8},\n",
      "{5.7, 3.8},\n",
      "{7.7, 2.6},\n",
      "{6.0, 2.9},\n",
      "{6.8, 2.8},\n",
      "{5.4, 3.4},\n",
      "{5.6, 2.9},\n",
      "{6.9, 3.1},\n",
      "{6.2, 2.2},\n",
      "{5.8, 2.7},\n",
      "{6.5, 3.2},\n",
      "{4.8, 3.0},\n",
      "{5.5, 3.5},\n",
      "{4.9, 3.1},\n",
      "{5.1, 3.8},\n",
      "\n"
     ]
    }
   ],
   "source": [
    "to_predict = X_test.to_numpy()\n",
    "features = \"\"\n",
    "\n",
    "for row in to_predict:\n",
    "  feature = \"{\"\n",
    "  for value in row:\n",
    "    feature += str(value) + \", \"\n",
    "  features += feature.strip(', ')\n",
    "  features += \"},\\n\"\n",
    "\n",
    "print(features)"
   ]
  },
  {
   "cell_type": "code",
   "execution_count": 38,
   "metadata": {},
   "outputs": [
    {
     "name": "stdout",
     "output_type": "stream",
     "text": [
      "#include <stdio.h>\n",
      "float lr_prediction(float *features, float* thetas)\n",
      "{\n",
      "    float res = -2.527642847333552;\n",
      "    for (int i = 0; i < 2; ++i)\n",
      "        res += features[i] * thetas[i];\n",
      "    return res;\n",
      "}\n",
      "\n",
      "int main(int argc, char *arvgv[])\n",
      "{\n",
      "    float features[15][2] = {{6.1, 2.8},\n",
      "{5.7, 3.8},\n",
      "{7.7, 2.6},\n",
      "{6.0, 2.9},\n",
      "{6.8, 2.8},\n",
      "{5.4, 3.4},\n",
      "{5.6, 2.9},\n",
      "{6.9, 3.1},\n",
      "{6.2, 2.2},\n",
      "{5.8, 2.7},\n",
      "{6.5, 3.2},\n",
      "{4.8, 3.0},\n",
      "{5.5, 3.5},\n",
      "{4.9, 3.1},\n",
      "{5.1, 3.8},\n",
      "};\n",
      "    float thetas[2] = { 1.7857587975297526f, -1.3404875694395608f }; \n",
      "\n",
      "    for (int i = 0; i < 15; ++i) {\n",
      "        printf(\"%f\\n\", lr_prediction(features[i], thetas));\n",
      "    }\n",
      "    \n",
      "    return 0;\n",
      "}\n",
      "\n"
     ]
    }
   ],
   "source": [
    "code = f\"\"\"\\\n",
    "#include <stdio.h>\n",
    "float lr_prediction(float *features, float* thetas)\n",
    "{{\n",
    "    float res = {bias};\n",
    "    for (int i = 0; i < {n_thetas}; ++i)\n",
    "        res += features[i] * thetas[i];\n",
    "    return res;\n",
    "}}\n",
    "\n",
    "int main(int argc, char *arvgv[])\n",
    "{{\n",
    "    float features[{to_predict.shape[0]}][{to_predict.shape[1]}] = {{{features}}};\n",
    "    {thetas_str_c} \n",
    "\n",
    "    for (int i = 0; i < {to_predict.shape[0]}; ++i) {{\n",
    "        printf(\"%f\\\\n\", lr_prediction(features[i], thetas));\n",
    "    }}\n",
    "    \n",
    "    return 0;\n",
    "}}\n",
    "\"\"\"\n",
    "\n",
    "print(code)"
   ]
  },
  {
   "cell_type": "markdown",
   "metadata": {},
   "source": [
    "## Generating the C file"
   ]
  },
  {
   "cell_type": "code",
   "execution_count": 39,
   "metadata": {},
   "outputs": [],
   "source": [
    "with open(\"linear_regression_iris.c\", \"w\") as f:\n",
    "    f.write(code)"
   ]
  },
  {
   "cell_type": "markdown",
   "metadata": {},
   "source": [
    "## Compilation and checking predictions"
   ]
  },
  {
   "cell_type": "code",
   "execution_count": 40,
   "metadata": {},
   "outputs": [],
   "source": [
    "!gcc linear_regression_iris.c -o lr"
   ]
  },
  {
   "cell_type": "code",
   "execution_count": 45,
   "metadata": {},
   "outputs": [
    {
     "name": "stdout",
     "output_type": "stream",
     "text": [
      "Transpiled LR model:\n",
      "4.612120\n",
      "2.557329\n",
      "7.737432\n",
      "4.299496\n",
      "5.862152\n",
      "2.557796\n",
      "3.585192\n",
      "5.638582\n",
      "5.594989\n",
      "4.210442\n",
      "4.790229\n",
      "2.022537\n",
      "2.602324\n",
      "2.067064\n",
      "1.485874\n",
      "*******************\n",
      "Sklearn LR model:\n",
      "4.6121206231671685\n",
      "2.5573295347157083\n",
      "7.737432213102685\n",
      "4.299495986470237\n",
      "5.862151781437995\n",
      "2.5577969232326057\n",
      "3.585192467458336\n",
      "5.638581390359104\n",
      "5.594989044583881\n",
      "4.2104417408521995\n",
      "4.790229114403244\n",
      "2.0225366724905776\n",
      "2.602324046041624\n",
      "2.067063795299598\n",
      "1.4858742561978557\n"
     ]
    }
   ],
   "source": [
    "print('Transpiled LR model:')\n",
    "!./lr\n",
    "\n",
    "print('*******************')\n",
    "predicted = lr_model.predict(X_test)\n",
    "print('Sklearn LR model:')\n",
    "for y in predicted:\n",
    "  print(y)"
   ]
  }
 ],
 "metadata": {
  "interpreter": {
   "hash": "b0fa6594d8f4cbf19f97940f81e996739fb7646882a419484c72d19e05852a7e"
  },
  "kernelspec": {
   "display_name": "Python 3.9.9 64-bit",
   "language": "python",
   "name": "python3"
  },
  "language_info": {
   "codemirror_mode": {
    "name": "ipython",
    "version": 3
   },
   "file_extension": ".py",
   "mimetype": "text/x-python",
   "name": "python",
   "nbconvert_exporter": "python",
   "pygments_lexer": "ipython3",
   "version": "3.9.9"
  },
  "orig_nbformat": 4
 },
 "nbformat": 4,
 "nbformat_minor": 2
}
